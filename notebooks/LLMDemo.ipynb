{
 "cells": [
  {
   "cell_type": "markdown",
   "id": "dc6d4f80-64f1-4de2-9563-a9f81175053a",
   "metadata": {},
   "source": [
    "# LLM Demo\n",
    "\n",
    "- Quickstart with OpenAI API\n",
    "- Show the prompting powers."
   ]
  },
  {
   "cell_type": "code",
   "execution_count": 4,
   "id": "c2c07bc1-7e27-4ea7-8de6-bc2d9ba0093e",
   "metadata": {},
   "outputs": [
    {
     "name": "stdout",
     "output_type": "stream",
     "text": [
      "ChatCompletionMessage(content=\"In the realm of computing's fierce domain,\\nWhere myriad systems seek to proudly reign,\\nThere lies a wonder, unique and free,\\nA majestic entity, called NixOS, you see.\\n\\nAmidst the chaos of battles waged in code,\\nNixOS stands tall, admirable ode,\\nFor it embraces a spirit, quite sublime,\\nA masterpiece of harmony, that defies time.\\n\\nLike a symphony conductor, it orchestrates,\\nA myriad of packages, at varied rates,\\nWith its declarative nature, it weaves,\\nA tapestry of stability, where joy cleaves.\\n\\nIn the heart of NixOS, the mighty Nix resides,\\nA package manager, a constant guide,\\nWith purity it reigns, unwavering grace,\\nBringing reproducibility to a world's fast pace.\\n\\nConfiguration, a breeze like gentle wind,\\nWith its declarative language, do we find,\\nA precise expression of desires untold,\\nStructured and clear, a sight to behold.\\n\\nRollbacks become effortless, without strife,\\nWith its atomic updates and safeguards rife,\\nOh, the wonders of NixOS, how they unfold,\\nPrecious snapshots of time, securely hold.\\n\\nA swan gliding gracefully on lakes serene,\\nWith NixOS, we venture where dreamers convene,\\nEnvironments reproducible, everlasting,\\nFrom development to deployment, encompassing.\\n\\nOh, NixOS, a symphony of computing delight,\\nYou dance in harmony, casting worries to flight,\\nWith elegance and order, you capture the soul,\\nTransforming complexity into a harmonious whole.\\n\\nSo, let us embrace this gift from realms sublime,\\nThe wonders of NixOS, unfettered, unconfined,\\nFor in its essence, the beauty we admire,\\nA synthesis of power and tranquility, it inspires.\", role='assistant', function_call=None, tool_calls=None)\n"
     ]
    }
   ],
   "source": [
    "from openai import OpenAI\n",
    "import os\n",
    "\n",
    "client = OpenAI()\n",
    "\n",
    "completion = client.chat.completions.create(\n",
    "  model=\"gpt-3.5-turbo\",\n",
    "  messages=[\n",
    "    {\"role\": \"system\", \"content\": \"You are a poetic assistant, skilled in explaining complex programming concepts with creative flair.\"},\n",
    "    {\"role\": \"user\", \"content\": \"Compose a poem that explains the wonders of NixOS.\"}\n",
    "  ]\n",
    ")\n",
    "\n",
    "print(completion.choices[0].message)"
   ]
  },
  {
   "cell_type": "code",
   "execution_count": 25,
   "id": "e0585046-7b20-4ee6-b003-2745ba45b7a4",
   "metadata": {},
   "outputs": [
    {
     "name": "stdout",
     "output_type": "stream",
     "text": [
      "The following packages are already present in the pyproject.toml and will be skipped:\n",
      "\n",
      "  • \u001b[36mtqdm\u001b[39m\n",
      "\n",
      "If you want to update it to the latest compatible version, you can use `poetry update package`.\n",
      "If you prefer to upgrade it to the latest available version, you can use `poetry add package@latest`.\n",
      "\n",
      "Nothing to add.\n",
      "The following packages are already present in the pyproject.toml and will be skipped:\n",
      "\n",
      "  • \u001b[36mnumpy\u001b[39m\n",
      "\n",
      "If you want to update it to the latest compatible version, you can use `poetry update package`.\n",
      "If you prefer to upgrade it to the latest available version, you can use `poetry add package@latest`.\n",
      "\n",
      "Nothing to add.\n",
      "Using version \u001b[39;1m^2.2.0\u001b[39;22m for \u001b[36mpandas\u001b[39m\n",
      "\n",
      "\u001b[34mUpdating dependencies\u001b[39m\n",
      "\u001b[2K\u001b[34mResolving dependencies...\u001b[39m \u001b[39;2m(1.2s)\u001b[39;22m\u001b[34mResolving dependencies...\u001b[39m \u001b[39;2m(0.1s)\u001b[39;22m\n",
      "\n",
      "\u001b[39;1mPackage operations\u001b[39;22m: \u001b[34m3\u001b[39m installs, \u001b[34m0\u001b[39m updates, \u001b[34m0\u001b[39m removals\n",
      "\n",
      "  \u001b[34;1m•\u001b[39;22m \u001b[39mInstalling \u001b[39m\u001b[36mpytz\u001b[39m\u001b[39m (\u001b[39m\u001b[39;1m2024.1\u001b[39;22m\u001b[39m)\u001b[39m: \u001b[34mPending...\u001b[39m\n",
      "  \u001b[34;1m•\u001b[39;22m \u001b[39mInstalling \u001b[39m\u001b[36mtzdata\u001b[39m\u001b[39m (\u001b[39m\u001b[39;1m2024.1\u001b[39;22m\u001b[39m)\u001b[39m: \u001b[34mPending...\u001b[39m\n",
      "\u001b[2A\u001b[0J  \u001b[34;1m•\u001b[39;22m \u001b[39mInstalling \u001b[39m\u001b[36mtzdata\u001b[39m\u001b[39m (\u001b[39m\u001b[39;1m2024.1\u001b[39;22m\u001b[39m)\u001b[39m: \u001b[34mPending...\u001b[39m\n",
      "\u001b[1A\u001b[0J  \u001b[34;1m•\u001b[39;22m \u001b[39mInstalling \u001b[39m\u001b[36mpytz\u001b[39m\u001b[39m (\u001b[39m\u001b[39;1m2024.1\u001b[39;22m\u001b[39m)\u001b[39m: \u001b[34mInstalling...\u001b[39m\n",
      "  \u001b[34;1m•\u001b[39;22m \u001b[39mInstalling \u001b[39m\u001b[36mtzdata\u001b[39m\u001b[39m (\u001b[39m\u001b[39;1m2024.1\u001b[39;22m\u001b[39m)\u001b[39m: \u001b[34mPending...\u001b[39m\n",
      "\u001b[2A\u001b[0J  \u001b[34;1m•\u001b[39;22m \u001b[39mInstalling \u001b[39m\u001b[36mtzdata\u001b[39m\u001b[39m (\u001b[39m\u001b[39;1m2024.1\u001b[39;22m\u001b[39m)\u001b[39m: \u001b[34mPending...\u001b[39m\n",
      "\u001b[1A\u001b[0J  \u001b[32;1m•\u001b[39;22m \u001b[39mInstalling \u001b[39m\u001b[36mpytz\u001b[39m\u001b[39m (\u001b[39m\u001b[32m2024.1\u001b[39m\u001b[39m)\u001b[39m\n",
      "  \u001b[34;1m•\u001b[39;22m \u001b[39mInstalling \u001b[39m\u001b[36mtzdata\u001b[39m\u001b[39m (\u001b[39m\u001b[39;1m2024.1\u001b[39;22m\u001b[39m)\u001b[39m: \u001b[34mPending...\u001b[39m\n",
      "\u001b[1A\u001b[0J  \u001b[34;1m•\u001b[39;22m \u001b[39mInstalling \u001b[39m\u001b[36mtzdata\u001b[39m\u001b[39m (\u001b[39m\u001b[39;1m2024.1\u001b[39;22m\u001b[39m)\u001b[39m: \u001b[34mDownloading...\u001b[39m \u001b[39;1m0%\u001b[39;22m\n",
      "\u001b[1A\u001b[0J  \u001b[34;1m•\u001b[39;22m \u001b[39mInstalling \u001b[39m\u001b[36mtzdata\u001b[39m\u001b[39m (\u001b[39m\u001b[39;1m2024.1\u001b[39;22m\u001b[39m)\u001b[39m: \u001b[34mDownloading...\u001b[39m \u001b[39;1m100%\u001b[39;22m\n",
      "\u001b[1A\u001b[0J  \u001b[34;1m•\u001b[39;22m \u001b[39mInstalling \u001b[39m\u001b[36mtzdata\u001b[39m\u001b[39m (\u001b[39m\u001b[39;1m2024.1\u001b[39;22m\u001b[39m)\u001b[39m: \u001b[34mInstalling...\u001b[39m\n",
      "\u001b[1A\u001b[0J  \u001b[32;1m•\u001b[39;22m \u001b[39mInstalling \u001b[39m\u001b[36mtzdata\u001b[39m\u001b[39m (\u001b[39m\u001b[32m2024.1\u001b[39m\u001b[39m)\u001b[39m\n",
      "  \u001b[34;1m•\u001b[39;22m \u001b[39mInstalling \u001b[39m\u001b[36mpandas\u001b[39m\u001b[39m (\u001b[39m\u001b[39;1m2.2.0\u001b[39;22m\u001b[39m)\u001b[39m: \u001b[34mPending...\u001b[39m\n",
      "\u001b[1A\u001b[0J  \u001b[34;1m•\u001b[39;22m \u001b[39mInstalling \u001b[39m\u001b[36mpandas\u001b[39m\u001b[39m (\u001b[39m\u001b[39;1m2.2.0\u001b[39;22m\u001b[39m)\u001b[39m: \u001b[34mInstalling...\u001b[39m\n",
      "\u001b[1A\u001b[0J  \u001b[32;1m•\u001b[39;22m \u001b[39mInstalling \u001b[39m\u001b[36mpandas\u001b[39m\u001b[39m (\u001b[39m\u001b[32m2.2.0\u001b[39m\u001b[39m)\u001b[39m\n",
      "\n",
      "\u001b[34mWriting lock file\u001b[39m\n"
     ]
    }
   ],
   "source": [
    "!poetry add tqdm\n",
    "!poetry add numpy\n",
    "!poetry add pandas"
   ]
  },
  {
   "cell_type": "markdown",
   "id": "5b2f0015-2ef9-49cb-91fe-f4ea92ea6f02",
   "metadata": {},
   "source": [
    "# Initial Observations\n",
    "\n",
    "- Wow, it's really creative! How can we do more with this?\n",
    "- Let's do some sentiment classification"
   ]
  },
  {
   "cell_type": "code",
   "execution_count": 12,
   "id": "21c5781d-abce-4408-bc04-ca479d061a27",
   "metadata": {},
   "outputs": [
    {
     "data": {
      "text/plain": [
       "'Sentiment: Negative'"
      ]
     },
     "execution_count": 12,
     "metadata": {},
     "output_type": "execute_result"
    }
   ],
   "source": [
    "writing_like_me = [\n",
    "    {\"role\": \"system\", \"content\": \"You classify sentiment\"},\n",
    "    {\"role\": \"user\", \"content\": \"I hate this restaurant, it sucks.\"}\n",
    "]\n",
    "\n",
    "def get_completions(messages, model='gpt-3.5-turbo'):\n",
    "    return client.chat.completions.create(\n",
    "        model=model,\n",
    "        messages=messages,\n",
    "        max_tokens=200,\n",
    "        temperature=0\n",
    "    ).choices[0].message.content\n",
    "    \n",
    "get_completions(writing_like_me)"
   ]
  },
  {
   "cell_type": "markdown",
   "id": "2c09b30f-06e0-4815-9de1-7d76c4004101",
   "metadata": {},
   "source": [
    "# In-Context Learning\n",
    "\n",
    "- The above example is showing zero-shot learning\n",
    "- Give the model a task, with no examples.\n",
    "- Do we like this format, can we improve the format?"
   ]
  },
  {
   "cell_type": "code",
   "execution_count": 13,
   "id": "9d0d6904-ce67-4d9d-a025-0e7eb7232e41",
   "metadata": {},
   "outputs": [
    {
     "data": {
      "text/plain": [
       "\"{'sentiment': 'positive'}\""
      ]
     },
     "execution_count": 13,
     "metadata": {},
     "output_type": "execute_result"
    }
   ],
   "source": [
    "writing_like_me += [\n",
    "    {\"role\": \"assistant\", \"content\": \"{'sentiment': 'negative'}\"},\n",
    "    {\"role\": \"user\", \"content\": \"I love this place!\"}\n",
    "]\n",
    "\n",
    "get_completions(writing_like_me)"
   ]
  },
  {
   "cell_type": "markdown",
   "id": "a2ba1230-34fa-44cf-9c30-cad7dc4f14c1",
   "metadata": {},
   "source": [
    "# One-Shot Learning\n",
    "\n",
    "- Given a single example, GPT-3.5 figured out what format we want our data in and used that for the next response.\n",
    "- Giving examples as part of a prompt is 1-N shot learning, as opposed to training data being required"
   ]
  },
  {
   "cell_type": "code",
   "execution_count": 15,
   "id": "972da88b-6d33-412e-9dae-140f7011900e",
   "metadata": {},
   "outputs": [
    {
     "name": "stderr",
     "output_type": "stream",
     "text": [
      "100%|██████████████████████████████████████████████████████████████████████████████████████████████████████████████████████████████████████████████████████████████████████████████| 53/53 [00:12<00:00,  4.32it/s]\n"
     ]
    }
   ],
   "source": [
    "import tqdm\n",
    "\n",
    "with open(\"/home/jacob/org/roam/20240112101043-todos.org\", \"r\") as f:\n",
    "    data = f.readlines()\n",
    "    todos = [t for t in data if t.startswith('* TODO')]\n",
    "\n",
    "# Generate embeddings for all my todo tasks.\n",
    "def get_embedding(text, model=\"text-embedding-3-small\"):\n",
    "   text = text.replace(\"\\n\", \" \")\n",
    "   return client.embeddings.create(input = [text], model=model).data[0].embedding\n",
    "\n",
    "embeddings = [get_embedding(x) for x in tqdm.tqdm(todos)]"
   ]
  },
  {
   "cell_type": "markdown",
   "id": "9b9aea18-9725-4c8d-b587-bf584f02be80",
   "metadata": {},
   "source": [
    "# Embeddings Based Search\n",
    "\n",
    "- Embeddings are the number-based representation of text.\n",
    "- Embedding models are trained to help learn relationships between tokens.\n",
    "- Can use generated embeddings to also build search applications.\n",
    "- Here's an example with my todo list."
   ]
  },
  {
   "cell_type": "code",
   "execution_count": 18,
   "id": "a03bb1f8-b96b-4d96-b7b5-480d69fd7ee8",
   "metadata": {},
   "outputs": [
    {
     "data": {
      "text/plain": [
       "'* TODO [#B] - Secure connection to SignalR Hub/Client :vasi:driver:\\n'"
      ]
     },
     "execution_count": 18,
     "metadata": {},
     "output_type": "execute_result"
    }
   ],
   "source": [
    "# import required libraries\n",
    "import numpy as np\n",
    "from numpy.linalg import norm\n",
    "\n",
    "question = \"Run whole system today with new parameters\"\n",
    "todos_with_embedding = list(zip(embeddings, todos))\n",
    "\n",
    "# compute cosine similarity\n",
    "def cosine_similarity(e1, e2):\n",
    "    return np.dot(e1, e2) / (norm(e1) * norm(e2))\n",
    "\n",
    "def get_cosine_similarity(text):\n",
    "    embedding = get_embedding(text)\n",
    "    sims = [(cosine_similarity(embedding, e[0]), e[0], e[1]) for e in todos_with_embedding]\n",
    "    return sorted(sims, key=lambda x: x[0])[0][2]\n",
    "\n",
    "get_cosine_similarity(question)"
   ]
  },
  {
   "cell_type": "markdown",
   "id": "d94d0922-c528-4608-ba14-a8979d2cacd5",
   "metadata": {},
   "source": [
    "# Quick and Dirty Search Engine\n",
    "\n",
    "- Uses OpenAI embeddings generated in previous step.\n",
    "- Generate embedding for input text.\n",
    "- Calculate cosine similarity for each of the other embeddings we have.\n",
    "- Return the text that is the most similar.\n",
    "\n",
    "## Extending with RAG (Retrieval Augmented Generation)\n",
    "\n",
    "- Use the retrieved `n` prompts as context for a new prompt"
   ]
  },
  {
   "cell_type": "code",
   "execution_count": 19,
   "id": "dfa17b39-9e9b-4530-828c-0f3648a39b40",
   "metadata": {},
   "outputs": [
    {
     "name": "stderr",
     "output_type": "stream",
     "text": [
      "/tmp/ipykernel_402346/3824448645.py:1: DeprecationWarning: \n",
      "Pyarrow will become a required dependency of pandas in the next major release of pandas (pandas 3.0),\n",
      "(to allow more performant data types, such as the Arrow string type, and better interoperability with other libraries)\n",
      "but was not found to be installed on your system.\n",
      "If this would cause problems for you,\n",
      "please provide us feedback at https://github.com/pandas-dev/pandas/issues/54466\n",
      "        \n",
      "  import pandas as pd\n"
     ]
    }
   ],
   "source": [
    "import pandas as pd\n",
    "\n",
    "data = pd.read_csv('../datasets/topical_chat.csv')\n",
    "first_conversation_messages = data.query('conversation_id == 1').message"
   ]
  },
  {
   "cell_type": "markdown",
   "id": "e581287b-eda9-4e7d-98e3-a910c7c18fbf",
   "metadata": {},
   "source": [
    "# Summarizing Discussion Content\n",
    "\n",
    "- Given a Chatbot conversation, can we summarize it?\n",
    "- Rolling summary to reduce the prompt length, or to handle conversations longer than the context window?\n",
    "- Let's generate a rolling summary, compressing information."
   ]
  },
  {
   "cell_type": "code",
   "execution_count": 20,
   "id": "467b39d1-ef6e-409d-a432-cee75ed04d62",
   "metadata": {},
   "outputs": [
    {
     "name": "stdout",
     "output_type": "stream",
     "text": [
      "summary: \n",
      "\n",
      "message:  Are you a fan of Google or Microsoft?\n",
      "\n",
      "completion: Summary: The question asks if the person prefers Google or Microsoft.\n",
      "\n",
      "Message: The message is not provided.\n",
      "====================================================================================================\n",
      "summary: Summary: The question asks if the person prefers Google or Microsoft.\n",
      "\n",
      "Message: The message is not provided.\n",
      "\n",
      "message:  Both are excellent technology they are helpful in many ways. For the security purpose both are super.\n",
      "\n",
      "completion: The question asks about preference between Google and Microsoft. Both are excellent technology and helpful in many ways, especially for security purposes.\n",
      "====================================================================================================\n",
      "summary: The question asks about preference between Google and Microsoft. Both are excellent technology and helpful in many ways, especially for security purposes.\n",
      "\n",
      "message:  I'm not  a huge fan of Google, but I use it a lot because I have to. I think they are a monopoly in some sense. \n",
      "\n",
      "completion: The question is about preference between Google and Microsoft, both excellent technology options with many benefits, particularly for security. The person is not a big fan of Google but uses it frequently out of necessity, expressing concerns about its monopoly-like status.\n",
      "====================================================================================================\n",
      "summary: The question is about preference between Google and Microsoft, both excellent technology options with many benefits, particularly for security. The person is not a big fan of Google but uses it frequently out of necessity, expressing concerns about its monopoly-like status.\n",
      "\n",
      "message:  Google provides online related services and products, which includes online ads, search engine and cloud computing.\n",
      "\n",
      "completion: The person is asking about the preference between Google and Microsoft, both of which are excellent technology options with many benefits, especially in terms of security. The person is not a big fan of Google but uses it frequently due to necessity, and has concerns about its monopoly-like status.\n",
      "====================================================================================================\n",
      "summary: The person is asking about the preference between Google and Microsoft, both of which are excellent technology options with many benefits, especially in terms of security. The person is not a big fan of Google but uses it frequently due to necessity, and has concerns about its monopoly-like status.\n",
      "\n",
      "message:  Yeah, their services are good. I'm just not a fan of intrusive they can be on our personal lives. \n",
      "\n",
      "completion: The person is asking about the preference between Google and Microsoft, both of which have excellent technology options and benefits, especially in terms of security. The person is not a big fan of Google due to its intrusive nature on personal lives.\n",
      "====================================================================================================\n",
      "summary: The person is asking about the preference between Google and Microsoft, both of which have excellent technology options and benefits, especially in terms of security. The person is not a big fan of Google due to its intrusive nature on personal lives.\n",
      "\n",
      "message:  Google is leading the alphabet subsidiary and will continue to be the Umbrella company for Alphabet internet interest.\n",
      "\n",
      "completion: The person is asking about the preference between Google and Microsoft, both of which have excellent technology options and benefits, especially in terms of security. The person is not a big fan of Google due to its intrusive nature on personal lives.\n",
      "====================================================================================================\n",
      "summary: The person is asking about the preference between Google and Microsoft, both of which have excellent technology options and benefits, especially in terms of security. The person is not a big fan of Google due to its intrusive nature on personal lives.\n",
      "\n",
      "message:  Did you know Google had hundreds of live goats to cut the grass in the past? \n",
      "\n",
      "completion: The person is asking about the preference between Google and Microsoft, both of which have excellent technology options and benefits, especially in terms of security. The person is not a big fan of Google due to its intrusive nature on personal lives. Additionally, Google had used live goats in the past to cut grass.\n",
      "====================================================================================================\n",
      "summary: The person is asking about the preference between Google and Microsoft, both of which have excellent technology options and benefits, especially in terms of security. The person is not a big fan of Google due to its intrusive nature on personal lives. Additionally, Google had used live goats in the past to cut grass.\n",
      "\n",
      "message:  It is very interesting. Google provide \"Chrome OS\" which is a light weight OS. Google provided a lot of hardware mainly in 2010 to 2015. \n",
      "\n",
      "completion: The person is asking about the preference between Google and Microsoft, both of which have excellent technology options and benefits, especially in terms of security. The person is not a big fan of Google due to its intrusive nature on personal lives. Additionally, Google had used live goats in the past to cut grass.\n",
      "====================================================================================================\n",
      "summary: The person is asking about the preference between Google and Microsoft, both of which have excellent technology options and benefits, especially in terms of security. The person is not a big fan of Google due to its intrusive nature on personal lives. Additionally, Google had used live goats in the past to cut grass.\n",
      "\n",
      "message:  I like Google Chrome. Do you use it as well for your browser? \n",
      "\n",
      "completion: The person is asking about the preference between Google and Microsoft, both of which have excellent technology options and benefits, especially in terms of security. The person is not a big fan of Google due to its intrusive nature on personal lives. Additionally, Google had used live goats in the past to cut grass. They specifically mention liking Google Chrome and ask if the other person uses it as well for their browser.\n",
      "====================================================================================================\n",
      "summary: The person is asking about the preference between Google and Microsoft, both of which have excellent technology options and benefits, especially in terms of security. The person is not a big fan of Google due to its intrusive nature on personal lives. Additionally, Google had used live goats in the past to cut grass. They specifically mention liking Google Chrome and ask if the other person uses it as well for their browser.\n",
      "\n",
      "message:  Yes.Google is the biggest search engine and Google service figure out top 100 website, including Youtube and Blogger.\n",
      "\n",
      "completion: The person is asking about the preference between Google and Microsoft, particularly in terms of technology options and security. They have concerns about Google's intrusive nature and mention a quirky fact about Google using live goats to cut grass. They specifically ask if the other person uses Google Chrome as their browser.\n",
      "====================================================================================================\n",
      "summary: The person is asking about the preference between Google and Microsoft, particularly in terms of technology options and security. They have concerns about Google's intrusive nature and mention a quirky fact about Google using live goats to cut grass. They specifically ask if the other person uses Google Chrome as their browser.\n",
      "\n",
      "message:  By the way, do you like Fish? \n",
      "\n",
      "completion: The person is asking about the preference between Google and Microsoft, specifically in terms of technology options and security. They have concerns about Google's intrusive nature and mention a quirky fact about Google using live goats to cut grass. They ask if the other person uses Google Chrome as their browser. They also ask if the other person likes fish.\n",
      "====================================================================================================\n",
      "summary: The person is asking about the preference between Google and Microsoft, specifically in terms of technology options and security. They have concerns about Google's intrusive nature and mention a quirky fact about Google using live goats to cut grass. They ask if the other person uses Google Chrome as their browser. They also ask if the other person likes fish.\n",
      "\n",
      "message:  Yes. They form a sister group of tourniquets- they make the sea water clean and remove the dust from it. Fish is the biggest part in the eco-system.\n",
      "\n",
      "completion: The person is asking about the preference between Google and Microsoft, focusing on technology options and security. They mention concerns about Google's intrusiveness and a quirky fact about goats used for grass cutting. They ask if the other person uses Google Chrome and if they like fish. The message also mentions the importance of fish in the ecosystem.\n",
      "====================================================================================================\n",
      "summary: The person is asking about the preference between Google and Microsoft, focusing on technology options and security. They mention concerns about Google's intrusiveness and a quirky fact about goats used for grass cutting. They ask if the other person uses Google Chrome and if they like fish. The message also mentions the importance of fish in the ecosystem.\n",
      "\n",
      "message:  Did you know that a seahorse is the only fish to have a neck? \n",
      "\n",
      "completion: The person is asking about the preference between Google and Microsoft, focusing on technology options and security. They mention concerns about Google's intrusiveness and a quirky fact about goats used for grass cutting. They ask if the other person uses Google Chrome and if they like fish. The message also mentions the importance of fish in the ecosystem. Additionally, a seahorse is the only fish with a neck.\n",
      "====================================================================================================\n",
      "summary: The person is asking about the preference between Google and Microsoft, focusing on technology options and security. They mention concerns about Google's intrusiveness and a quirky fact about goats used for grass cutting. They ask if the other person uses Google Chrome and if they like fish. The message also mentions the importance of fish in the ecosystem. Additionally, a seahorse is the only fish with a neck.\n",
      "\n",
      "message:  Freshwater fish only drink water through the skin via Osmosis, Saltwater fish drink water through the mouth. Dolphins are friendly to human beings.\n",
      "\n",
      "completion: The person is asking about the preference between Google and Microsoft, focusing on technology options and security. They mention concerns about Google's intrusiveness and a quirky fact about goats used for grass cutting. They ask if the other person uses Google Chrome and if they like fish. The message also mentions the importance of fish in the ecosystem. Additionally, a seahorse is the only fish with a neck. Freshwater fish only drink water through the skin via Osmosis, Saltwater fish drink water through the mouth. Dolphins are friendly to human beings.\n",
      "====================================================================================================\n",
      "summary: The person is asking about the preference between Google and Microsoft, focusing on technology options and security. They mention concerns about Google's intrusiveness and a quirky fact about goats used for grass cutting. They ask if the other person uses Google Chrome and if they like fish. The message also mentions the importance of fish in the ecosystem. Additionally, a seahorse is the only fish with a neck. Freshwater fish only drink water through the skin via Osmosis, Saltwater fish drink water through the mouth. Dolphins are friendly to human beings.\n",
      "\n",
      "message:  Interesting, they also have gills. Did you know that jellyfish are immortal? \n",
      "\n",
      "completion: The person is asking about the preference between Google and Microsoft, focusing on technology options and security. They mention concerns about Google's intrusiveness and a quirky fact about goats used for grass cutting. They ask if the other person uses Google Chrome and if they like fish. The message also mentions the importance of fish in the ecosystem. Additionally, a seahorse is the only fish with a neck. Freshwater fish only drink water through the skin via Osmosis, Saltwater fish drink water through the mouth. Dolphins are friendly to human beings. Interesting, they also have gills. Did you know that jellyfish are immortal?\n",
      "====================================================================================================\n",
      "summary: The person is asking about the preference between Google and Microsoft, focusing on technology options and security. They mention concerns about Google's intrusiveness and a quirky fact about goats used for grass cutting. They ask if the other person uses Google Chrome and if they like fish. The message also mentions the importance of fish in the ecosystem. Additionally, a seahorse is the only fish with a neck. Freshwater fish only drink water through the skin via Osmosis, Saltwater fish drink water through the mouth. Dolphins are friendly to human beings. Interesting, they also have gills. Did you know that jellyfish are immortal?\n",
      "\n",
      "message:  Yes. Fish is the important resources of human world wide for the commercial and subsistence fish hunts the fish in the wild fisheries.\n",
      "\n",
      "completion: The person is asking about the preference between Google and Microsoft, focusing on technology options and security. They mention concerns about Google's intrusiveness and a quirky fact about goats used for grass cutting. They ask if the other person uses Google Chrome and if they like fish. The message also mentions the importance of fish in the ecosystem. Additionally, a seahorse is the only fish with a neck. Freshwater fish only drink water through the skin via Osmosis, Saltwater fish drink water through the mouth. Dolphins are friendly to human beings. Interesting, they also have gills. Did you know that jellyfish are immortal?\n",
      "====================================================================================================\n",
      "summary: The person is asking about the preference between Google and Microsoft, focusing on technology options and security. They mention concerns about Google's intrusiveness and a quirky fact about goats used for grass cutting. They ask if the other person uses Google Chrome and if they like fish. The message also mentions the importance of fish in the ecosystem. Additionally, a seahorse is the only fish with a neck. Freshwater fish only drink water through the skin via Osmosis, Saltwater fish drink water through the mouth. Dolphins are friendly to human beings. Interesting, they also have gills. Did you know that jellyfish are immortal?\n",
      "\n",
      "message:  What about cats, do you like cats? I'm a dog fan myself. \n",
      "\n",
      "completion: The person is asking about the preference between Google and Microsoft, focusing on technology options and security. They mention concerns about Google's intrusiveness and a quirky fact about goats used for grass cutting. They ask if the other person uses Google Chrome and if they like fish. The message also mentions the importance of fish in the ecosystem. Additionally, a seahorse is the only fish with a neck. Freshwater fish only drink water through the skin via Osmosis, Saltwater fish drink water through the mouth. Dolphins are friendly to human beings. Interesting, they also have gills. Did you know that jellyfish are immortal? What about cats, do you like cats? I'm a dog fan myself.\n",
      "====================================================================================================\n",
      "summary: The person is asking about the preference between Google and Microsoft, focusing on technology options and security. They mention concerns about Google's intrusiveness and a quirky fact about goats used for grass cutting. They ask if the other person uses Google Chrome and if they like fish. The message also mentions the importance of fish in the ecosystem. Additionally, a seahorse is the only fish with a neck. Freshwater fish only drink water through the skin via Osmosis, Saltwater fish drink water through the mouth. Dolphins are friendly to human beings. Interesting, they also have gills. Did you know that jellyfish are immortal? What about cats, do you like cats? I'm a dog fan myself.\n",
      "\n",
      "message:  The cat is referred as domestic cat and wild cat. They make our world very clean from rats! \n",
      "\n",
      "completion: The person is asking about the preference between Google and Microsoft, focusing on technology options and security. They mention concerns about Google's intrusiveness and a quirky fact about goats used for grass cutting. They ask if the other person uses Google Chrome and if they like fish. The message also mentions the importance of fish in the ecosystem. Additionally, a seahorse is the only fish with a neck. Freshwater fish only drink water through the skin via Osmosis, Saltwater fish drink water through the mouth. Dolphins are friendly to human beings. Interesting, they also have gills. Did you know that jellyfish are immortal? What about cats, do you like cats? I'm a dog fan myself. The cat is referred as domestic cat and wild cat. They make our world very clean from rats!\n",
      "====================================================================================================\n",
      "summary: The person is asking about the preference between Google and Microsoft, focusing on technology options and security. They mention concerns about Google's intrusiveness and a quirky fact about goats used for grass cutting. They ask if the other person uses Google Chrome and if they like fish. The message also mentions the importance of fish in the ecosystem. Additionally, a seahorse is the only fish with a neck. Freshwater fish only drink water through the skin via Osmosis, Saltwater fish drink water through the mouth. Dolphins are friendly to human beings. Interesting, they also have gills. Did you know that jellyfish are immortal? What about cats, do you like cats? I'm a dog fan myself. The cat is referred as domestic cat and wild cat. They make our world very clean from rats!\n",
      "\n",
      "message:  Yeah, cats can be cool, but they sure do spend a lot of their time sleeping. \n",
      "\n",
      "completion: The person asks about the preference between Google and Microsoft, mentioning concerns about Google's intrusiveness and a quirky fact about goats used for grass cutting. They also ask if the other person uses Google Chrome and if they like fish. The message mentions the importance of fish in the ecosystem, a fact about seahorses, how freshwater and saltwater fish drink water, dolphins being friendly to humans, jellyfish being immortal, and asks if the person likes cats. The person also mentions that cats keep the world clean from rats.\n",
      "====================================================================================================\n",
      "summary: The person asks about the preference between Google and Microsoft, mentioning concerns about Google's intrusiveness and a quirky fact about goats used for grass cutting. They also ask if the other person uses Google Chrome and if they like fish. The message mentions the importance of fish in the ecosystem, a fact about seahorses, how freshwater and saltwater fish drink water, dolphins being friendly to humans, jellyfish being immortal, and asks if the person likes cats. The person also mentions that cats keep the world clean from rats.\n",
      "\n",
      "message:  Cats hear the sounds too faint or too high frequency human ears can hear. \n",
      "\n",
      "completion: The person asks about Google vs Microsoft, mentioning privacy concerns and a fact about goats. They ask if the other person uses Google Chrome and likes fish. The message talks about the importance of fish in the ecosystem, seahorses, how fish drink water, dolphins being friendly, jellyfish being immortal, and asks if the person likes cats. Cats keep the world clean from rats and can hear sounds humans can't.\n",
      "====================================================================================================\n",
      "summary: The person asks about Google vs Microsoft, mentioning privacy concerns and a fact about goats. They ask if the other person uses Google Chrome and likes fish. The message talks about the importance of fish in the ecosystem, seahorses, how fish drink water, dolphins being friendly, jellyfish being immortal, and asks if the person likes cats. Cats keep the world clean from rats and can hear sounds humans can't.\n",
      "\n",
      "message:  I heard that too. Well, it was nice chatting with you. Have a good day. \n",
      "\n",
      "completion: The person asks about Google vs Microsoft, privacy concerns, and goats. They ask if the other person uses Google Chrome and likes fish. The message talks about the importance of fish in the ecosystem, seahorses, fish drinking water, friendly dolphins, immortal jellyfish, and asks if the person likes cats. Cats keep the world clean from rats and have superior hearing. The conversation ends with a farewell and well wishes.\n",
      "====================================================================================================\n"
     ]
    }
   ],
   "source": [
    "def get_summary_prompt(summary, message):\n",
    "    print(f\"summary: {summary}\\n\")\n",
    "    print(f\"message: {message}\\n\")\n",
    "    return [\n",
    "        {'role': 'system', 'content': 'You exist to summarize content, compress the information as much as possible without losing meaning'},\n",
    "        {'role': 'user', 'content': f'Summarize this existing summary and the following message \\n{summary} \\n{message}'}\n",
    "    ]\n",
    "\n",
    "\n",
    "summary = ''\n",
    "for message in first_conversation_messages:\n",
    "    summary = get_completions(get_summary_prompt(summary, message))\n",
    "    print(f\"completion: {summary}\")\n",
    "    print(\"=\"*100)\n"
   ]
  },
  {
   "cell_type": "markdown",
   "id": "854d2613-7f6e-4aa1-8531-14d60eb34b8e",
   "metadata": {},
   "source": [
    "# Results\n",
    "\n",
    "- Watch as the summary is updated in real-time\n",
    "- This is a particularly silly example"
   ]
  },
  {
   "cell_type": "code",
   "execution_count": 21,
   "id": "b3ed58b8-c1d4-4cea-8587-ec62667810e8",
   "metadata": {},
   "outputs": [
    {
     "data": {
      "text/plain": [
       "'Sentiment: Negative'"
      ]
     },
     "execution_count": 21,
     "metadata": {},
     "output_type": "execute_result"
    }
   ],
   "source": [
    "def get_classification_prompt(text, *args):\n",
    "    return [\n",
    "        {'role': 'user', 'content': f'Classify the following text: {text}'},\n",
    "        *args\n",
    "    ]\n",
    "\n",
    "get_completions(get_classification_prompt('This is a silly thing you are asking me to do'))"
   ]
  },
  {
   "cell_type": "markdown",
   "id": "92613291-ca98-4d4c-b424-89d1ce3fa8bf",
   "metadata": {},
   "source": [
    "# Combine In-Context Learning and Prompt Engineering\n",
    "\n",
    "- We asked the LLM to classify text without any context.\n",
    "- Sentiment was used\n",
    "- What if we want emotions"
   ]
  },
  {
   "cell_type": "code",
   "execution_count": 22,
   "id": "bf838cbf-3647-4a96-ba3d-fcb5716c4d05",
   "metadata": {},
   "outputs": [
    {
     "data": {
      "text/plain": [
       "'Sarcastic, critical'"
      ]
     },
     "execution_count": 22,
     "metadata": {},
     "output_type": "execute_result"
    }
   ],
   "source": [
    "get_completions(\n",
    "    get_classification_prompt(\n",
    "        'This is a silly thing you are asking me to do', \n",
    "        {'role': 'assistant', 'content': 'Angry, but comical'}, \n",
    "        {'role': 'user', 'content': 'What an ass-backwards way to screw in a lightbulb'}\n",
    "    ))"
   ]
  },
  {
   "cell_type": "markdown",
   "id": "e1d83fd5-1b63-40f5-8065-bd53921b89f2",
   "metadata": {},
   "source": [
    "# What does this show?\n",
    "\n",
    "One-shot learning\n",
    "\n",
    "## What if we don't want to provide more examples? Reduce the prompt length?\n",
    "\n",
    "- Use prompt engineering"
   ]
  },
  {
   "cell_type": "code",
   "execution_count": 23,
   "id": "5ef90942-7ccf-4296-8028-e4fe543bffef",
   "metadata": {},
   "outputs": [
    {
     "data": {
      "text/plain": [
       "'sad'"
      ]
     },
     "execution_count": 23,
     "metadata": {},
     "output_type": "execute_result"
    }
   ],
   "source": [
    "# Using Prompt Engineering\n",
    "def get_classification_prompt_with_context(text, *args):\n",
    "    return [\n",
    "        {'role': 'user', 'content': f'Using the categories happy, mad, or sad, classify the following text: {text}'},\n",
    "        *args\n",
    "    ]\n",
    "\n",
    "get_completions(get_classification_prompt_with_context(\n",
    "    \"This is a silly thing you are asking me to do\", \n",
    "    {'role': 'assistant', 'content': 'mad'}, \n",
    "    {'role': 'user', 'content': 'You are a terrible human being and it makes me want to cry'}))"
   ]
  },
  {
   "cell_type": "code",
   "execution_count": 75,
   "id": "f5e1e1dd-a115-465e-a117-de011310b88a",
   "metadata": {},
   "outputs": [
    {
     "data": {
      "text/plain": [
       "'mad'"
      ]
     },
     "execution_count": 75,
     "metadata": {},
     "output_type": "execute_result"
    }
   ],
   "source": [
    "get_completions(get_classification_prompt_with_context(\n",
    "    \"This is a silly thing you are asking me to do\", \n",
    "    {'role': 'assistant', 'content': 'mad'}, \n",
    "    {'role': 'user', 'content': 'You are a terrible human being and it makes me want to cry'},\n",
    "    {'role': 'assistant', 'content': 'sad'},\n",
    "    {'role': 'user', 'content': 'I am so upset right now, no one could calm me down'}))"
   ]
  },
  {
   "cell_type": "code",
   "execution_count": null,
   "id": "2308e8de-75b6-48a4-b4af-8b621c41273c",
   "metadata": {},
   "outputs": [],
   "source": []
  }
 ],
 "metadata": {
  "kernelspec": {
   "display_name": "Python 3 (ipykernel)",
   "language": "python",
   "name": "python3"
  },
  "language_info": {
   "codemirror_mode": {
    "name": "ipython",
    "version": 3
   },
   "file_extension": ".py",
   "mimetype": "text/x-python",
   "name": "python",
   "nbconvert_exporter": "python",
   "pygments_lexer": "ipython3",
   "version": "3.10.12"
  }
 },
 "nbformat": 4,
 "nbformat_minor": 5
}
